{
 "cells": [
  {
   "cell_type": "code",
   "execution_count": 26,
   "metadata": {
    "collapsed": true
   },
   "outputs": [],
   "source": [
    "import numpy as np\n",
    "import pandas as pd\n",
    "import matplotlib.pyplot as plt\n",
    "%matplotlib inline"
   ]
  },
  {
   "cell_type": "raw",
   "metadata": {},
   "source": [
    "导入customer数据"
   ]
  },
  {
   "cell_type": "code",
   "execution_count": 27,
   "metadata": {},
   "outputs": [
    {
     "data": {
      "text/html": [
       "<div>\n",
       "<style>\n",
       "    .dataframe thead tr:only-child th {\n",
       "        text-align: right;\n",
       "    }\n",
       "\n",
       "    .dataframe thead th {\n",
       "        text-align: left;\n",
       "    }\n",
       "\n",
       "    .dataframe tbody tr th {\n",
       "        vertical-align: top;\n",
       "    }\n",
       "</style>\n",
       "<table border=\"1\" class=\"dataframe\">\n",
       "  <thead>\n",
       "    <tr style=\"text-align: right;\">\n",
       "      <th></th>\n",
       "      <th>顾客</th>\n",
       "      <th>购买日期</th>\n",
       "      <th>数量</th>\n",
       "      <th>购买总金额</th>\n",
       "    </tr>\n",
       "  </thead>\n",
       "  <tbody>\n",
       "    <tr>\n",
       "      <th>0</th>\n",
       "      <td>C3</td>\n",
       "      <td>2017-09-28</td>\n",
       "      <td>1</td>\n",
       "      <td>16.99</td>\n",
       "    </tr>\n",
       "    <tr>\n",
       "      <th>1</th>\n",
       "      <td>C5</td>\n",
       "      <td>2017-05-03</td>\n",
       "      <td>3</td>\n",
       "      <td>37.47</td>\n",
       "    </tr>\n",
       "    <tr>\n",
       "      <th>2</th>\n",
       "      <td>C7</td>\n",
       "      <td>2017-07-22</td>\n",
       "      <td>9</td>\n",
       "      <td>138.50</td>\n",
       "    </tr>\n",
       "    <tr>\n",
       "      <th>3</th>\n",
       "      <td>C8</td>\n",
       "      <td>2017-07-29</td>\n",
       "      <td>2</td>\n",
       "      <td>24.46</td>\n",
       "    </tr>\n",
       "    <tr>\n",
       "      <th>4</th>\n",
       "      <td>C9</td>\n",
       "      <td>2017-10-08</td>\n",
       "      <td>2</td>\n",
       "      <td>41.98</td>\n",
       "    </tr>\n",
       "  </tbody>\n",
       "</table>\n",
       "</div>"
      ],
      "text/plain": [
       "   顾客       购买日期  数量   购买总金额\n",
       "0  C3 2017-09-28   1   16.99\n",
       "1  C5 2017-05-03   3   37.47\n",
       "2  C7 2017-07-22   9  138.50\n",
       "3  C8 2017-07-29   2   24.46\n",
       "4  C9 2017-10-08   2   41.98"
      ]
     },
     "execution_count": 27,
     "metadata": {},
     "output_type": "execute_result"
    }
   ],
   "source": [
    "data = pd.read_excel('customer.xlsx',encoding='utf8')\n",
    "data.head()"
   ]
  },
  {
   "cell_type": "code",
   "execution_count": 28,
   "metadata": {
    "scrolled": true
   },
   "outputs": [
    {
     "name": "stdout",
     "output_type": "stream",
     "text": [
      "<class 'pandas.core.frame.DataFrame'>\n",
      "RangeIndex: 12757 entries, 0 to 12756\n",
      "Data columns (total 4 columns):\n",
      "顾客       12757 non-null object\n",
      "购买日期     12757 non-null datetime64[ns]\n",
      "数量       12757 non-null int64\n",
      "购买总金额    12757 non-null float64\n",
      "dtypes: datetime64[ns](1), float64(1), int64(1), object(1)\n",
      "memory usage: 398.7+ KB\n"
     ]
    }
   ],
   "source": [
    "data.info() #检查数据"
   ]
  },
  {
   "cell_type": "markdown",
   "metadata": {},
   "source": [
    "# 一、计算消费者的R（最近交易距离至今的天数）"
   ]
  },
  {
   "cell_type": "code",
   "execution_count": 35,
   "metadata": {},
   "outputs": [
    {
     "data": {
      "text/html": [
       "<div>\n",
       "<style>\n",
       "    .dataframe thead tr:only-child th {\n",
       "        text-align: right;\n",
       "    }\n",
       "\n",
       "    .dataframe thead th {\n",
       "        text-align: left;\n",
       "    }\n",
       "\n",
       "    .dataframe tbody tr th {\n",
       "        vertical-align: top;\n",
       "    }\n",
       "</style>\n",
       "<table border=\"1\" class=\"dataframe\">\n",
       "  <thead>\n",
       "    <tr style=\"text-align: right;\">\n",
       "      <th></th>\n",
       "      <th>最后交易日期</th>\n",
       "      <th>最后一次交易距离天数</th>\n",
       "    </tr>\n",
       "    <tr>\n",
       "      <th>顾客</th>\n",
       "      <th></th>\n",
       "      <th></th>\n",
       "    </tr>\n",
       "  </thead>\n",
       "  <tbody>\n",
       "    <tr>\n",
       "      <th>C100</th>\n",
       "      <td>2017-08-20</td>\n",
       "      <td>145</td>\n",
       "    </tr>\n",
       "    <tr>\n",
       "      <th>C10018</th>\n",
       "      <td>2017-09-08</td>\n",
       "      <td>126</td>\n",
       "    </tr>\n",
       "    <tr>\n",
       "      <th>C1002</th>\n",
       "      <td>2017-09-07</td>\n",
       "      <td>127</td>\n",
       "    </tr>\n",
       "    <tr>\n",
       "      <th>C10026</th>\n",
       "      <td>2017-08-02</td>\n",
       "      <td>163</td>\n",
       "    </tr>\n",
       "    <tr>\n",
       "      <th>C10027</th>\n",
       "      <td>2017-08-23</td>\n",
       "      <td>142</td>\n",
       "    </tr>\n",
       "  </tbody>\n",
       "</table>\n",
       "</div>"
      ],
      "text/plain": [
       "           最后交易日期  最后一次交易距离天数\n",
       "顾客                           \n",
       "C100   2017-08-20         145\n",
       "C10018 2017-09-08         126\n",
       "C1002  2017-09-07         127\n",
       "C10026 2017-08-02         163\n",
       "C10027 2017-08-23         142"
      ]
     },
     "execution_count": 35,
     "metadata": {},
     "output_type": "execute_result"
    }
   ],
   "source": [
    "from datetime import datetime as time\n",
    "data_R = data.groupby('顾客').max()[['购买日期']]\n",
    "data_R.rename(columns={'购买日期':'最后交易日期'},inplace=True)\n",
    "data_R['最后一次交易距离天数'] =( time.now() - data_R['最后交易日期']).apply(lambda x:x.days)\n",
    "data_R.head()"
   ]
  },
  {
   "cell_type": "markdown",
   "metadata": {},
   "source": [
    "#### 给客户打分：\n",
    "  距离天数80天以内评5分\n",
    "  \n",
    " 距离天数110天以内评4分\n",
    " \n",
    " 距离天数140天以内评3分\n",
    " \n",
    " 距离天数170天以内评2分\n",
    " \n",
    " 距离天数200天以内评1分\n",
    " "
   ]
  },
  {
   "cell_type": "code",
   "execution_count": 36,
   "metadata": {
    "collapsed": true
   },
   "outputs": [],
   "source": [
    "#评分函数\n",
    "def Rscore(days):\n",
    "    if days <= 80:\n",
    "        return 5\n",
    "    elif days <=110:\n",
    "        return 4\n",
    "    elif days <=140:\n",
    "        return 3\n",
    "    elif days <=170:\n",
    "        return 2\n",
    "    else:\n",
    "        return 1"
   ]
  },
  {
   "cell_type": "code",
   "execution_count": 40,
   "metadata": {},
   "outputs": [
    {
     "data": {
      "text/html": [
       "<div>\n",
       "<style>\n",
       "    .dataframe thead tr:only-child th {\n",
       "        text-align: right;\n",
       "    }\n",
       "\n",
       "    .dataframe thead th {\n",
       "        text-align: left;\n",
       "    }\n",
       "\n",
       "    .dataframe tbody tr th {\n",
       "        vertical-align: top;\n",
       "    }\n",
       "</style>\n",
       "<table border=\"1\" class=\"dataframe\">\n",
       "  <thead>\n",
       "    <tr style=\"text-align: right;\">\n",
       "      <th></th>\n",
       "      <th>最后交易日期</th>\n",
       "      <th>最后一次交易距离天数</th>\n",
       "      <th>R_Score</th>\n",
       "    </tr>\n",
       "    <tr>\n",
       "      <th>顾客</th>\n",
       "      <th></th>\n",
       "      <th></th>\n",
       "      <th></th>\n",
       "    </tr>\n",
       "  </thead>\n",
       "  <tbody>\n",
       "    <tr>\n",
       "      <th>C100</th>\n",
       "      <td>2017-08-20</td>\n",
       "      <td>145</td>\n",
       "      <td>2</td>\n",
       "    </tr>\n",
       "    <tr>\n",
       "      <th>C10018</th>\n",
       "      <td>2017-09-08</td>\n",
       "      <td>126</td>\n",
       "      <td>3</td>\n",
       "    </tr>\n",
       "    <tr>\n",
       "      <th>C1002</th>\n",
       "      <td>2017-09-07</td>\n",
       "      <td>127</td>\n",
       "      <td>3</td>\n",
       "    </tr>\n",
       "    <tr>\n",
       "      <th>C10026</th>\n",
       "      <td>2017-08-02</td>\n",
       "      <td>163</td>\n",
       "      <td>2</td>\n",
       "    </tr>\n",
       "    <tr>\n",
       "      <th>C10027</th>\n",
       "      <td>2017-08-23</td>\n",
       "      <td>142</td>\n",
       "      <td>2</td>\n",
       "    </tr>\n",
       "  </tbody>\n",
       "</table>\n",
       "</div>"
      ],
      "text/plain": [
       "           最后交易日期  最后一次交易距离天数  R_Score\n",
       "顾客                                    \n",
       "C100   2017-08-20         145        2\n",
       "C10018 2017-09-08         126        3\n",
       "C1002  2017-09-07         127        3\n",
       "C10026 2017-08-02         163        2\n",
       "C10027 2017-08-23         142        2"
      ]
     },
     "execution_count": 40,
     "metadata": {},
     "output_type": "execute_result"
    }
   ],
   "source": [
    "#添加评分列\n",
    "data_R['R_Score'] = data_R['最后一次交易距离天数'].apply(Rscore)\n",
    "data_R.head()\n"
   ]
  },
  {
   "cell_type": "code",
   "execution_count": 43,
   "metadata": {},
   "outputs": [
    {
     "data": {
      "text/plain": [
       "1    1858\n",
       "4    1415\n",
       "3     919\n",
       "2     790\n",
       "5     392\n",
       "Name: R_Score, dtype: int64"
      ]
     },
     "execution_count": 43,
     "metadata": {},
     "output_type": "execute_result"
    }
   ],
   "source": [
    "data_R['R_Score'].value_counts()#客户的R得分分布"
   ]
  },
  {
   "cell_type": "markdown",
   "metadata": {},
   "source": [
    "## 二、计算每个客户的F（累计成交量）"
   ]
  },
  {
   "cell_type": "code",
   "execution_count": 45,
   "metadata": {},
   "outputs": [
    {
     "data": {
      "text/html": [
       "<div>\n",
       "<style>\n",
       "    .dataframe thead tr:only-child th {\n",
       "        text-align: right;\n",
       "    }\n",
       "\n",
       "    .dataframe thead th {\n",
       "        text-align: left;\n",
       "    }\n",
       "\n",
       "    .dataframe tbody tr th {\n",
       "        vertical-align: top;\n",
       "    }\n",
       "</style>\n",
       "<table border=\"1\" class=\"dataframe\">\n",
       "  <thead>\n",
       "    <tr style=\"text-align: right;\">\n",
       "      <th></th>\n",
       "      <th>数量</th>\n",
       "    </tr>\n",
       "    <tr>\n",
       "      <th>顾客</th>\n",
       "      <th></th>\n",
       "    </tr>\n",
       "  </thead>\n",
       "  <tbody>\n",
       "    <tr>\n",
       "      <th>C100</th>\n",
       "      <td>2</td>\n",
       "    </tr>\n",
       "    <tr>\n",
       "      <th>C10018</th>\n",
       "      <td>2</td>\n",
       "    </tr>\n",
       "    <tr>\n",
       "      <th>C1002</th>\n",
       "      <td>2</td>\n",
       "    </tr>\n",
       "    <tr>\n",
       "      <th>C10026</th>\n",
       "      <td>7</td>\n",
       "    </tr>\n",
       "    <tr>\n",
       "      <th>C10027</th>\n",
       "      <td>10</td>\n",
       "    </tr>\n",
       "  </tbody>\n",
       "</table>\n",
       "</div>"
      ],
      "text/plain": [
       "        数量\n",
       "顾客        \n",
       "C100     2\n",
       "C10018   2\n",
       "C1002    2\n",
       "C10026   7\n",
       "C10027  10"
      ]
     },
     "execution_count": 45,
     "metadata": {},
     "output_type": "execute_result"
    }
   ],
   "source": [
    "data_F = data.groupby('顾客').sum()[['数量']]\n",
    "data_F.head()"
   ]
  },
  {
   "cell_type": "markdown",
   "metadata": {},
   "source": [
    "#### 给客户打分：\n",
    " 成交量50个以上评5分\n",
    "  \n",
    " 成交量30个以上评4分\n",
    " \n",
    " 成交量20个以上评3分\n",
    " \n",
    " 成交量10个以上评2分\n",
    " \n",
    " 成交量10个以内评1分"
   ]
  },
  {
   "cell_type": "code",
   "execution_count": 48,
   "metadata": {
    "collapsed": true
   },
   "outputs": [],
   "source": [
    "#评分函数\n",
    "def Fscore(count):\n",
    "    if count >= 50:\n",
    "        return 5\n",
    "    elif count >=30:\n",
    "        return 4\n",
    "    elif count >=20:\n",
    "        return 3\n",
    "    elif count >=10:\n",
    "        return 2\n",
    "    else:\n",
    "        return 1"
   ]
  },
  {
   "cell_type": "code",
   "execution_count": 50,
   "metadata": {},
   "outputs": [
    {
     "data": {
      "text/html": [
       "<div>\n",
       "<style>\n",
       "    .dataframe thead tr:only-child th {\n",
       "        text-align: right;\n",
       "    }\n",
       "\n",
       "    .dataframe thead th {\n",
       "        text-align: left;\n",
       "    }\n",
       "\n",
       "    .dataframe tbody tr th {\n",
       "        vertical-align: top;\n",
       "    }\n",
       "</style>\n",
       "<table border=\"1\" class=\"dataframe\">\n",
       "  <thead>\n",
       "    <tr style=\"text-align: right;\">\n",
       "      <th></th>\n",
       "      <th>数量</th>\n",
       "      <th>F_Score</th>\n",
       "    </tr>\n",
       "    <tr>\n",
       "      <th>顾客</th>\n",
       "      <th></th>\n",
       "      <th></th>\n",
       "    </tr>\n",
       "  </thead>\n",
       "  <tbody>\n",
       "    <tr>\n",
       "      <th>C100</th>\n",
       "      <td>2</td>\n",
       "      <td>1</td>\n",
       "    </tr>\n",
       "    <tr>\n",
       "      <th>C10018</th>\n",
       "      <td>2</td>\n",
       "      <td>1</td>\n",
       "    </tr>\n",
       "    <tr>\n",
       "      <th>C1002</th>\n",
       "      <td>2</td>\n",
       "      <td>1</td>\n",
       "    </tr>\n",
       "    <tr>\n",
       "      <th>C10026</th>\n",
       "      <td>7</td>\n",
       "      <td>1</td>\n",
       "    </tr>\n",
       "    <tr>\n",
       "      <th>C10027</th>\n",
       "      <td>10</td>\n",
       "      <td>2</td>\n",
       "    </tr>\n",
       "  </tbody>\n",
       "</table>\n",
       "</div>"
      ],
      "text/plain": [
       "        数量  F_Score\n",
       "顾客                 \n",
       "C100     2        1\n",
       "C10018   2        1\n",
       "C1002    2        1\n",
       "C10026   7        1\n",
       "C10027  10        2"
      ]
     },
     "execution_count": 50,
     "metadata": {},
     "output_type": "execute_result"
    }
   ],
   "source": [
    "data_F['F_Score']=data_F['数量'].apply(Fscore)\n",
    "data_F.head()"
   ]
  },
  {
   "cell_type": "code",
   "execution_count": 52,
   "metadata": {},
   "outputs": [
    {
     "data": {
      "text/plain": [
       "1    4523\n",
       "2     583\n",
       "3     155\n",
       "4      70\n",
       "5      43\n",
       "Name: F_Score, dtype: int64"
      ]
     },
     "execution_count": 52,
     "metadata": {},
     "output_type": "execute_result"
    }
   ],
   "source": [
    "data_F['F_Score'].value_counts()#顾客的F得分分布"
   ]
  },
  {
   "cell_type": "markdown",
   "metadata": {},
   "source": [
    "## 三、计算每个客户的M（累计成交额）"
   ]
  },
  {
   "cell_type": "code",
   "execution_count": 69,
   "metadata": {},
   "outputs": [
    {
     "data": {
      "text/html": [
       "<div>\n",
       "<style>\n",
       "    .dataframe thead tr:only-child th {\n",
       "        text-align: right;\n",
       "    }\n",
       "\n",
       "    .dataframe thead th {\n",
       "        text-align: left;\n",
       "    }\n",
       "\n",
       "    .dataframe tbody tr th {\n",
       "        vertical-align: top;\n",
       "    }\n",
       "</style>\n",
       "<table border=\"1\" class=\"dataframe\">\n",
       "  <thead>\n",
       "    <tr style=\"text-align: right;\">\n",
       "      <th></th>\n",
       "      <th>购买总金额</th>\n",
       "    </tr>\n",
       "    <tr>\n",
       "      <th>顾客</th>\n",
       "      <th></th>\n",
       "    </tr>\n",
       "  </thead>\n",
       "  <tbody>\n",
       "    <tr>\n",
       "      <th>C100</th>\n",
       "      <td>28.98</td>\n",
       "    </tr>\n",
       "    <tr>\n",
       "      <th>C10018</th>\n",
       "      <td>23.37</td>\n",
       "    </tr>\n",
       "    <tr>\n",
       "      <th>C1002</th>\n",
       "      <td>15.48</td>\n",
       "    </tr>\n",
       "    <tr>\n",
       "      <th>C10026</th>\n",
       "      <td>123.43</td>\n",
       "    </tr>\n",
       "    <tr>\n",
       "      <th>C10027</th>\n",
       "      <td>122.33</td>\n",
       "    </tr>\n",
       "  </tbody>\n",
       "</table>\n",
       "</div>"
      ],
      "text/plain": [
       "         购买总金额\n",
       "顾客            \n",
       "C100     28.98\n",
       "C10018   23.37\n",
       "C1002    15.48\n",
       "C10026  123.43\n",
       "C10027  122.33"
      ]
     },
     "execution_count": 69,
     "metadata": {},
     "output_type": "execute_result"
    }
   ],
   "source": [
    "data_M = data.groupby('顾客').sum()[['购买总金额']]\n",
    "data_M.head()"
   ]
  },
  {
   "cell_type": "markdown",
   "metadata": {},
   "source": [
    "#### 给客户打分：\n",
    " 成交额500元以上评5分\n",
    "  \n",
    " 成交额300元以上500元以下评4分\n",
    " \n",
    " 成交额150元以上300元以下评3分\n",
    " \n",
    " 成交额50元以上150元以下评2分\n",
    " \n",
    " 成交额50元以内评1分"
   ]
  },
  {
   "cell_type": "code",
   "execution_count": 70,
   "metadata": {
    "collapsed": true
   },
   "outputs": [],
   "source": [
    "#评分函数\n",
    "def Mscore(amount):\n",
    "    if amount >= 500:\n",
    "        return 5\n",
    "    elif amount >=300:\n",
    "        return 4\n",
    "    elif amount >=150:\n",
    "        return 3\n",
    "    elif amount >=50:\n",
    "        return 2\n",
    "    else:\n",
    "        return 1"
   ]
  },
  {
   "cell_type": "code",
   "execution_count": 74,
   "metadata": {},
   "outputs": [
    {
     "data": {
      "text/html": [
       "<div>\n",
       "<style>\n",
       "    .dataframe thead tr:only-child th {\n",
       "        text-align: right;\n",
       "    }\n",
       "\n",
       "    .dataframe thead th {\n",
       "        text-align: left;\n",
       "    }\n",
       "\n",
       "    .dataframe tbody tr th {\n",
       "        vertical-align: top;\n",
       "    }\n",
       "</style>\n",
       "<table border=\"1\" class=\"dataframe\">\n",
       "  <thead>\n",
       "    <tr style=\"text-align: right;\">\n",
       "      <th></th>\n",
       "      <th>购买总金额</th>\n",
       "      <th>M_Score</th>\n",
       "    </tr>\n",
       "    <tr>\n",
       "      <th>顾客</th>\n",
       "      <th></th>\n",
       "      <th></th>\n",
       "    </tr>\n",
       "  </thead>\n",
       "  <tbody>\n",
       "    <tr>\n",
       "      <th>C100</th>\n",
       "      <td>28.98</td>\n",
       "      <td>1</td>\n",
       "    </tr>\n",
       "    <tr>\n",
       "      <th>C10018</th>\n",
       "      <td>23.37</td>\n",
       "      <td>1</td>\n",
       "    </tr>\n",
       "    <tr>\n",
       "      <th>C1002</th>\n",
       "      <td>15.48</td>\n",
       "      <td>1</td>\n",
       "    </tr>\n",
       "    <tr>\n",
       "      <th>C10026</th>\n",
       "      <td>123.43</td>\n",
       "      <td>2</td>\n",
       "    </tr>\n",
       "    <tr>\n",
       "      <th>C10027</th>\n",
       "      <td>122.33</td>\n",
       "      <td>2</td>\n",
       "    </tr>\n",
       "  </tbody>\n",
       "</table>\n",
       "</div>"
      ],
      "text/plain": [
       "         购买总金额  M_Score\n",
       "顾客                     \n",
       "C100     28.98        1\n",
       "C10018   23.37        1\n",
       "C1002    15.48        1\n",
       "C10026  123.43        2\n",
       "C10027  122.33        2"
      ]
     },
     "execution_count": 74,
     "metadata": {},
     "output_type": "execute_result"
    }
   ],
   "source": [
    "data_M['M_Score'] = data_M['购买总金额'].apply(Mscore)\n",
    "data_M.head()"
   ]
  },
  {
   "cell_type": "code",
   "execution_count": 76,
   "metadata": {},
   "outputs": [
    {
     "data": {
      "text/plain": [
       "1    2810\n",
       "2    1819\n",
       "3     494\n",
       "4     157\n",
       "5      94\n",
       "Name: M_Score, dtype: int64"
      ]
     },
     "execution_count": 76,
     "metadata": {},
     "output_type": "execute_result"
    }
   ],
   "source": [
    "data_M['M_Score'].value_counts()#顾客M分数分布"
   ]
  },
  {
   "cell_type": "markdown",
   "metadata": {},
   "source": [
    "## 四、计算三项均值"
   ]
  },
  {
   "cell_type": "code",
   "execution_count": 83,
   "metadata": {},
   "outputs": [
    {
     "name": "stdout",
     "output_type": "stream",
     "text": [
      "R均值 2.570710829921846 \n",
      "\n",
      " F均值 1.2372534425009305 \n",
      "\n",
      " M均值 1.6799404540379606\n"
     ]
    }
   ],
   "source": [
    "R_mean = data_R['R_Score'].mean()#R均值\n",
    "F_mean = data_F['F_Score'].mean()#F均值\n",
    "M_mean = data_M['M_Score'].mean()#M均值\n",
    "print('R均值',R_mean,'\\n'*2,'F均值',F_mean,'\\n'*2,'M均值',M_mean)"
   ]
  },
  {
   "cell_type": "markdown",
   "metadata": {},
   "source": [
    "## 五、判断顾客三项得分是否高于均值\n",
    "  用RFM的每一项平均值作为判断高于还是低于，比如重要价值客户，必须是三项都高于平均值才能作为重要价值客户"
   ]
  },
  {
   "cell_type": "code",
   "execution_count": 96,
   "metadata": {
    "collapsed": true
   },
   "outputs": [],
   "source": [
    "#判定函数\n",
    "def judge_R(r):\n",
    "    if r > R_mean:\n",
    "        return 1\n",
    "    else:\n",
    "        return 0\n",
    "\n",
    "def judge_F(f):\n",
    "    if f > F_mean:\n",
    "        return 1\n",
    "    else:\n",
    "        return 0\n",
    "\n",
    "def judge_M(m):\n",
    "    if m > M_mean:\n",
    "        return 1\n",
    "    else:\n",
    "        return 0"
   ]
  },
  {
   "cell_type": "markdown",
   "metadata": {},
   "source": [
    "合并顾客的R,F,M分数"
   ]
  },
  {
   "cell_type": "code",
   "execution_count": 91,
   "metadata": {},
   "outputs": [
    {
     "data": {
      "text/html": [
       "<div>\n",
       "<style>\n",
       "    .dataframe thead tr:only-child th {\n",
       "        text-align: right;\n",
       "    }\n",
       "\n",
       "    .dataframe thead th {\n",
       "        text-align: left;\n",
       "    }\n",
       "\n",
       "    .dataframe tbody tr th {\n",
       "        vertical-align: top;\n",
       "    }\n",
       "</style>\n",
       "<table border=\"1\" class=\"dataframe\">\n",
       "  <thead>\n",
       "    <tr style=\"text-align: right;\">\n",
       "      <th></th>\n",
       "      <th>顾客</th>\n",
       "      <th>R_Score</th>\n",
       "      <th>F_Score</th>\n",
       "      <th>M_Score</th>\n",
       "    </tr>\n",
       "  </thead>\n",
       "  <tbody>\n",
       "    <tr>\n",
       "      <th>0</th>\n",
       "      <td>C100</td>\n",
       "      <td>2</td>\n",
       "      <td>1</td>\n",
       "      <td>1</td>\n",
       "    </tr>\n",
       "    <tr>\n",
       "      <th>1</th>\n",
       "      <td>C10018</td>\n",
       "      <td>3</td>\n",
       "      <td>1</td>\n",
       "      <td>1</td>\n",
       "    </tr>\n",
       "    <tr>\n",
       "      <th>2</th>\n",
       "      <td>C1002</td>\n",
       "      <td>3</td>\n",
       "      <td>1</td>\n",
       "      <td>1</td>\n",
       "    </tr>\n",
       "    <tr>\n",
       "      <th>3</th>\n",
       "      <td>C10026</td>\n",
       "      <td>2</td>\n",
       "      <td>1</td>\n",
       "      <td>2</td>\n",
       "    </tr>\n",
       "    <tr>\n",
       "      <th>4</th>\n",
       "      <td>C10027</td>\n",
       "      <td>2</td>\n",
       "      <td>2</td>\n",
       "      <td>2</td>\n",
       "    </tr>\n",
       "  </tbody>\n",
       "</table>\n",
       "</div>"
      ],
      "text/plain": [
       "       顾客  R_Score  F_Score  M_Score\n",
       "0    C100        2        1        1\n",
       "1  C10018        3        1        1\n",
       "2   C1002        3        1        1\n",
       "3  C10026        2        1        2\n",
       "4  C10027        2        2        2"
      ]
     },
     "execution_count": 91,
     "metadata": {},
     "output_type": "execute_result"
    }
   ],
   "source": [
    "dataR = data_R.reset_index()[['顾客','R_Score']]\n",
    "dataF = data_F.reset_index()[['顾客','F_Score']]\n",
    "dataM = data_M.reset_index()[['顾客','M_Score']]\n",
    "data_merge = dataR.merge(dataF,on='顾客',how='left').merge(dataM,on='顾客',how='left')\n",
    "data_merge.head()"
   ]
  },
  {
   "cell_type": "markdown",
   "metadata": {},
   "source": [
    "判断顾客的R,F,M是否高于均值"
   ]
  },
  {
   "cell_type": "code",
   "execution_count": 98,
   "metadata": {},
   "outputs": [
    {
     "data": {
      "text/html": [
       "<div>\n",
       "<style>\n",
       "    .dataframe thead tr:only-child th {\n",
       "        text-align: right;\n",
       "    }\n",
       "\n",
       "    .dataframe thead th {\n",
       "        text-align: left;\n",
       "    }\n",
       "\n",
       "    .dataframe tbody tr th {\n",
       "        vertical-align: top;\n",
       "    }\n",
       "</style>\n",
       "<table border=\"1\" class=\"dataframe\">\n",
       "  <thead>\n",
       "    <tr style=\"text-align: right;\">\n",
       "      <th></th>\n",
       "      <th>顾客</th>\n",
       "      <th>R_Score</th>\n",
       "      <th>F_Score</th>\n",
       "      <th>M_Score</th>\n",
       "      <th>R均值判断</th>\n",
       "      <th>F均值判断</th>\n",
       "      <th>M均值判断</th>\n",
       "    </tr>\n",
       "  </thead>\n",
       "  <tbody>\n",
       "    <tr>\n",
       "      <th>0</th>\n",
       "      <td>C100</td>\n",
       "      <td>2</td>\n",
       "      <td>1</td>\n",
       "      <td>1</td>\n",
       "      <td>0</td>\n",
       "      <td>0</td>\n",
       "      <td>0</td>\n",
       "    </tr>\n",
       "    <tr>\n",
       "      <th>1</th>\n",
       "      <td>C10018</td>\n",
       "      <td>3</td>\n",
       "      <td>1</td>\n",
       "      <td>1</td>\n",
       "      <td>1</td>\n",
       "      <td>0</td>\n",
       "      <td>0</td>\n",
       "    </tr>\n",
       "    <tr>\n",
       "      <th>2</th>\n",
       "      <td>C1002</td>\n",
       "      <td>3</td>\n",
       "      <td>1</td>\n",
       "      <td>1</td>\n",
       "      <td>1</td>\n",
       "      <td>0</td>\n",
       "      <td>0</td>\n",
       "    </tr>\n",
       "    <tr>\n",
       "      <th>3</th>\n",
       "      <td>C10026</td>\n",
       "      <td>2</td>\n",
       "      <td>1</td>\n",
       "      <td>2</td>\n",
       "      <td>0</td>\n",
       "      <td>0</td>\n",
       "      <td>1</td>\n",
       "    </tr>\n",
       "    <tr>\n",
       "      <th>4</th>\n",
       "      <td>C10027</td>\n",
       "      <td>2</td>\n",
       "      <td>2</td>\n",
       "      <td>2</td>\n",
       "      <td>0</td>\n",
       "      <td>1</td>\n",
       "      <td>1</td>\n",
       "    </tr>\n",
       "  </tbody>\n",
       "</table>\n",
       "</div>"
      ],
      "text/plain": [
       "       顾客  R_Score  F_Score  M_Score  R均值判断  F均值判断  M均值判断\n",
       "0    C100        2        1        1      0      0      0\n",
       "1  C10018        3        1        1      1      0      0\n",
       "2   C1002        3        1        1      1      0      0\n",
       "3  C10026        2        1        2      0      0      1\n",
       "4  C10027        2        2        2      0      1      1"
      ]
     },
     "execution_count": 98,
     "metadata": {},
     "output_type": "execute_result"
    }
   ],
   "source": [
    "data_merge['R均值判断'] = data_merge['R_Score'].apply(judge_R)\n",
    "data_merge['F均值判断'] = data_merge['F_Score'].apply(judge_F)\n",
    "data_merge['M均值判断'] = data_merge['M_Score'].apply(judge_M)\n",
    "data_merge.head()"
   ]
  },
  {
   "cell_type": "markdown",
   "metadata": {},
   "source": [
    "## 六、通过判断进行顾客分类"
   ]
  },
  {
   "cell_type": "code",
   "execution_count": 101,
   "metadata": {},
   "outputs": [
    {
     "data": {
      "text/html": [
       "<div>\n",
       "<style>\n",
       "    .dataframe thead tr:only-child th {\n",
       "        text-align: right;\n",
       "    }\n",
       "\n",
       "    .dataframe thead th {\n",
       "        text-align: left;\n",
       "    }\n",
       "\n",
       "    .dataframe tbody tr th {\n",
       "        vertical-align: top;\n",
       "    }\n",
       "</style>\n",
       "<table border=\"1\" class=\"dataframe\">\n",
       "  <thead>\n",
       "    <tr style=\"text-align: right;\">\n",
       "      <th></th>\n",
       "      <th>顾客</th>\n",
       "      <th>R_Score</th>\n",
       "      <th>F_Score</th>\n",
       "      <th>M_Score</th>\n",
       "      <th>R均值判断</th>\n",
       "      <th>F均值判断</th>\n",
       "      <th>M均值判断</th>\n",
       "      <th>客户价值分类</th>\n",
       "    </tr>\n",
       "  </thead>\n",
       "  <tbody>\n",
       "    <tr>\n",
       "      <th>0</th>\n",
       "      <td>C100</td>\n",
       "      <td>2</td>\n",
       "      <td>1</td>\n",
       "      <td>1</td>\n",
       "      <td>0</td>\n",
       "      <td>0</td>\n",
       "      <td>0</td>\n",
       "      <td>流失客户</td>\n",
       "    </tr>\n",
       "    <tr>\n",
       "      <th>1</th>\n",
       "      <td>C10018</td>\n",
       "      <td>3</td>\n",
       "      <td>1</td>\n",
       "      <td>1</td>\n",
       "      <td>1</td>\n",
       "      <td>0</td>\n",
       "      <td>0</td>\n",
       "      <td>新客户</td>\n",
       "    </tr>\n",
       "    <tr>\n",
       "      <th>2</th>\n",
       "      <td>C1002</td>\n",
       "      <td>3</td>\n",
       "      <td>1</td>\n",
       "      <td>1</td>\n",
       "      <td>1</td>\n",
       "      <td>0</td>\n",
       "      <td>0</td>\n",
       "      <td>新客户</td>\n",
       "    </tr>\n",
       "    <tr>\n",
       "      <th>3</th>\n",
       "      <td>C10026</td>\n",
       "      <td>2</td>\n",
       "      <td>1</td>\n",
       "      <td>2</td>\n",
       "      <td>0</td>\n",
       "      <td>0</td>\n",
       "      <td>1</td>\n",
       "      <td>重要挽留客户</td>\n",
       "    </tr>\n",
       "    <tr>\n",
       "      <th>4</th>\n",
       "      <td>C10027</td>\n",
       "      <td>2</td>\n",
       "      <td>2</td>\n",
       "      <td>2</td>\n",
       "      <td>0</td>\n",
       "      <td>1</td>\n",
       "      <td>1</td>\n",
       "      <td>重要召回客户</td>\n",
       "    </tr>\n",
       "  </tbody>\n",
       "</table>\n",
       "</div>"
      ],
      "text/plain": [
       "       顾客  R_Score  F_Score  M_Score  R均值判断  F均值判断  M均值判断  客户价值分类\n",
       "0    C100        2        1        1      0      0      0    流失客户\n",
       "1  C10018        3        1        1      1      0      0     新客户\n",
       "2   C1002        3        1        1      1      0      0     新客户\n",
       "3  C10026        2        1        2      0      0      1  重要挽留客户\n",
       "4  C10027        2        2        2      0      1      1  重要召回客户"
      ]
     },
     "execution_count": 101,
     "metadata": {},
     "output_type": "execute_result"
    }
   ],
   "source": [
    "R = data_merge['R均值判断']\n",
    "F = data_merge['F均值判断']\n",
    "M = data_merge['M均值判断']\n",
    "\n",
    "data_merge['客户价值分类'] = np.where((R==1)&(F==1)&(M==1),'重要价值客户',\n",
    "                                np.where((R==0)&(F==1)&(M==1),'重要召回客户',\n",
    "                                         np.where((R==1)&(F==0)&(M==1),'重要维护客户',\n",
    "                                                  np.where((R==0)&(F==0)&(M==1),'重要挽留客户',\n",
    "                                                           np.where((R==1)&(F==1)&(M==0),'潜力客户',\n",
    "                                                                    np.where((R==1)&(F==0)&(M==0),'新客户',\n",
    "                                                                             np.where((R==0)&(F==1)&(M==0),'一般客户',\n",
    "                                                                                     '流失客户')))))))\n",
    "data_merge.head()"
   ]
  },
  {
   "cell_type": "markdown",
   "metadata": {},
   "source": [
    "## 七、数据可视化"
   ]
  },
  {
   "cell_type": "code",
   "execution_count": 104,
   "metadata": {},
   "outputs": [
    {
     "data": {
      "text/plain": [
       "流失客户      1750\n",
       "新客户       1060\n",
       "重要维护客户     990\n",
       "重要挽留客户     723\n",
       "重要价值客户     676\n",
       "重要召回客户     175\n",
       "Name: 客户价值分类, dtype: int64"
      ]
     },
     "execution_count": 104,
     "metadata": {},
     "output_type": "execute_result"
    }
   ],
   "source": [
    "custom_classify = data_merge['客户价值分类'].value_counts()\n",
    "custom_classify"
   ]
  },
  {
   "cell_type": "code",
   "execution_count": 165,
   "metadata": {},
   "outputs": [
    {
     "data": {
      "text/plain": [
       "[Text(0.5,1,'客户价值分类占比')]"
      ]
     },
     "execution_count": 165,
     "metadata": {},
     "output_type": "execute_result"
    },
    {
     "data": {
      "image/png": "[encoded data removed]",
      "text/plain": [
       "<matplotlib.figure.Figure at 0x258a62770f0>"
      ]
     },
     "metadata": {},
     "output_type": "display_data"
    }
   ],
   "source": [
    "plt.style.use('ggplot')\n",
    "fig = plt.figure(figsize=(13,5),dpi = 100)\n",
    "plot1 = fig.add_subplot(121)\n",
    "plot2 = fig.add_subplot(122)\n",
    "plt.rcParams['font.sans-serif']=['SimHei']#定义画图工具\n",
    "\n",
    "x = custom_classify.sort_values().index\n",
    "y = custom_classify.sort_values().values\n",
    "\n",
    "plot1.barh(np.arange(len(x)),y,tick_label = x,color = '#CD5B45' )\n",
    "plot1.set(xlabel = '客户数量',title='客户价值分类汇总')\n",
    "for a,b in zip(y,np.arange(len(x))):\n",
    "    plot1.text(a+100,b,a,ha='center',fontsize=10)\n",
    "plot2.pie(y,labels=x,startangle=90,autopct='%.f%%',pctdistance=0.3)\n",
    "plot2.set(title='客户价值分类占比')"
   ]
  },
  {
   "cell_type": "markdown",
   "metadata": {},
   "source": [
    "> 分析：\n",
    "从图表中可以看出流失客户1750人，占全部客户的33%，而与之对应的新客户有1060人占比20%，说明在客户数量处于净流失达到13%。需要进一步对产品经营的现状做进一步的调查，了解流失客户的原因。而对于经营收益影响最大的重要价值客户有676人，占总客户的13%，这些才是公司的主要盈利对象，需要对这些客户有更多的照顾和活动，进而提高订单额；公司新客户也有着较大的占比可以尝试加大宣传的力度，稳定提高新客户的增长量。"
   ]
  },
  {
   "cell_type": "markdown",
   "metadata": {},
   "source": [
    "### 客户贡献度分析\n",
    "\n",
    "贡献度分析又称为帕累托分析，原理是帕累托法则，又称28法则；\n",
    "例如80%的收入来自20%的客户，80%的财富掌握在20%的人手中"
   ]
  },
  {
   "cell_type": "code",
   "execution_count": 146,
   "metadata": {},
   "outputs": [
    {
     "data": {
      "text/plain": [
       "客户价值分类\n",
       "新客户        29484.31\n",
       "流失客户       44709.49\n",
       "重要价值客户    217689.33\n",
       "重要召回客户     36597.66\n",
       "重要挽留客户     60729.00\n",
       "重要维护客户     86944.58\n",
       "Name: 购买总金额, dtype: float64"
      ]
     },
     "execution_count": 146,
     "metadata": {},
     "output_type": "execute_result"
    }
   ],
   "source": [
    "#得到各类型客户的贡献金额\n",
    "custom_cost = pd.merge(data_merge,data_M.reset_index().loc[:,'顾客':'购买总金额'],on='顾客',how='left')\n",
    "custom_cost = custom_cost.groupby('客户价值分类').sum()['购买总金额']\n",
    "custom_cost"
   ]
  },
  {
   "cell_type": "code",
   "execution_count": 187,
   "metadata": {
    "scrolled": false
   },
   "outputs": [
    {
     "data": {
      "image/png": "[encoded data removed]",
      "text/plain": [
       "<matplotlib.figure.Figure at 0x258a7b3b0f0>"
      ]
     },
     "metadata": {},
     "output_type": "display_data"
    }
   ],
   "source": [
    "plt.rcParams['font.sans-serif']=['SimHei']\n",
    "\n",
    "x = custom_cost.sort_values(ascending=False).index\n",
    "y = custom_cost.sort_values(ascending = False).values\n",
    "\n",
    "fig,plot3 = plt.subplots(figsize=(10,5),dpi = 100)\n",
    "plot3.bar(np.arange(len(x)),y,tick_label = x,color = '#CD5B45')\n",
    "plot3.set(title='客户分类贡献度',ylabel = '总消费额')\n",
    "for a,b in zip(np.arange(len(x)),y):\n",
    "    plot3.text(a,b+3000,int(b),ha='center',fontsize = 10)\n",
    "plot3.grid(False)\n",
    "plot4 = plot3.twinx()\n",
    "cumsum_cost = y.cumsum()/y.sum()\n",
    "plot4.plot(np.arange(len(x)),cumsum_cost,marker='o',color='#9BCD9B',mec='#9C9C9C',mfc='white')\n",
    "plot4.set_ylim(0,1.09)\n",
    "plot4.set_ylabel('贡献率')\n",
    "for a,b in zip(np.arange(len(x)),cumsum_cost):\n",
    "    plot4.text(a,b+0.05,format(b,'.0%'),ha='center',fontsize = 10)"
   ]
  },
  {
   "cell_type": "markdown",
   "metadata": {},
   "source": [
    "> 分析：\n",
    "重要价值客户虽然只占所有客户的13%，但是所贡献的订单额达到了46%，将近总体的一半贡献度，其行为本身具有较高的粘性，但是还是要保持客户的经营，避免流失重要价值客户；占比第二客户则是重要维护的客户，他们自身具有交易额大，但是交易频率低的特征，说明这类客户消费能力强，但是没有激活粘性，需要更具体的了解该类客户的需求，并提供相应的服务，使之转化为重要价值客户。"
   ]
  },
  {
   "cell_type": "markdown",
   "metadata": {},
   "source": [
    "## 八、导出客户分类"
   ]
  },
  {
   "cell_type": "code",
   "execution_count": 201,
   "metadata": {},
   "outputs": [],
   "source": [
    "\n",
    "for i in x:\n",
    "    save = data_merge.loc[data_merge['客户价值分类'] == i][['顾客','客户价值分类']]\n",
    "    save.to_csv(i + '.csv')\n"
   ]
  }
 ],
 "metadata": {
  "kernelspec": {
   "display_name": "Python 3",
   "language": "python",
   "name": "python3"
  },
  "language_info": {
   "codemirror_mode": {
    "name": "ipython",
    "version": 3
   },
   "file_extension": ".py",
   "mimetype": "text/x-python",
   "name": "python",
   "nbconvert_exporter": "python",
   "pygments_lexer": "ipython3",
   "version": "3.6.3"
  }
 },
 "nbformat": 4,
 "nbformat_minor": 2
}
